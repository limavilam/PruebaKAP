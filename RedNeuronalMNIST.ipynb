{
 "cells": [
  {
   "cell_type": "code",
   "execution_count": 65,
   "id": "4998c114-600d-4b9e-95cf-42188dae29e1",
   "metadata": {},
   "outputs": [],
   "source": [
    "import tensorflow as tf\n",
    "import numpy as np\n",
    "import pandas as pd\n",
    "import matplotlib as mpl\n",
    "from matplotlib import pyplot as plt\n",
    "from sklearn.datasets import fetch_openml\n",
    "from sklearn.model_selection import train_test_split\n",
    "from sklearn.preprocessing import LabelBinarizer"
   ]
  },
  {
   "cell_type": "code",
   "execution_count": 16,
   "id": "91780b48-bdae-4531-8d7c-d288355a8a37",
   "metadata": {},
   "outputs": [],
   "source": [
    "#Cargar los datos\n",
    "mnist = fetch_openml('mnist_784', as_frame = False)\n",
    "X_mnist = mnist.data\n",
    "y_mnist = mnist.target"
   ]
  },
  {
   "cell_type": "code",
   "execution_count": 17,
   "id": "ee128674-f2ba-48eb-8ae2-7e9e27364b50",
   "metadata": {},
   "outputs": [
    {
     "data": {
      "text/plain": [
       "array(['5', '0', '4', '1', '9'], dtype=object)"
      ]
     },
     "execution_count": 17,
     "metadata": {},
     "output_type": "execute_result"
    }
   ],
   "source": [
    "y_mnist[:5]"
   ]
  },
  {
   "cell_type": "code",
   "execution_count": 15,
   "id": "a9ea15d3-aad8-4f56-b15c-8f24620c1e7c",
   "metadata": {},
   "outputs": [
    {
     "data": {
      "image/png": "[encoded data removed]",
      "text/plain": [
       "<Figure size 640x480 with 1 Axes>"
      ]
     },
     "metadata": {},
     "output_type": "display_data"
    }
   ],
   "source": [
    "# Visualización de la primera imagen del dataset.\n",
    "plt.axis('off')\n",
    "plt.imshow(mnist.data[0].reshape(28,28), cmap = 'gray');"
   ]
  },
  {
   "cell_type": "code",
   "execution_count": null,
   "id": "5a4feb7d-12fc-41a0-b579-2c293efab58c",
   "metadata": {},
   "outputs": [],
   "source": [
    "#Preprocesamiento de los datos"
   ]
  },
  {
   "cell_type": "code",
   "execution_count": 19,
   "id": "d20506d6-7950-4dad-8b3a-e2219a75eb4d",
   "metadata": {},
   "outputs": [
    {
     "name": "stdout",
     "output_type": "stream",
     "text": [
      "[[0. 0. 0. ... 0. 0. 0.]\n",
      " [0. 0. 0. ... 0. 0. 0.]\n",
      " [0. 0. 0. ... 0. 0. 0.]\n",
      " ...\n",
      " [0. 0. 0. ... 0. 0. 0.]\n",
      " [0. 0. 0. ... 0. 0. 0.]\n",
      " [0. 0. 0. ... 0. 0. 0.]]\n"
     ]
    }
   ],
   "source": [
    "#1. Normalización de los píxeles\n",
    "X_mnist = X_mnist.astype('float')/255.0\n",
    "print(X_mnist)"
   ]
  },
  {
   "cell_type": "code",
   "execution_count": 45,
   "id": "be91cb7e-1481-48b1-95d8-668ff8a3f5ee",
   "metadata": {},
   "outputs": [
    {
     "name": "stdout",
     "output_type": "stream",
     "text": [
      "[[0 0 0 ... 0 0 0]\n",
      " [1 0 0 ... 0 0 0]\n",
      " [0 0 0 ... 0 0 0]\n",
      " ...\n",
      " [0 0 0 ... 0 0 0]\n",
      " [0 0 0 ... 0 0 0]\n",
      " [0 0 0 ... 0 0 0]]\n"
     ]
    }
   ],
   "source": [
    "#2. Conversión de etiquetas con One Hot Encoding\n",
    "lb = LabelBinarizer()\n",
    "y_mnist = lb.fit_transform(y_mnist)\n",
    "print(y_mnist)"
   ]
  },
  {
   "cell_type": "code",
   "execution_count": 46,
   "id": "779ed70a-cfd9-4baf-b6cc-bd08d19996cb",
   "metadata": {},
   "outputs": [],
   "source": [
    "#3. División del conjunto de datos\n",
    "X_train, X_test, y_train, y_test = train_test_split(X_mnist, y_mnist, test_size=0.2, random_state=42)"
   ]
  },
  {
   "cell_type": "code",
   "execution_count": null,
   "id": "cfdf7ef2-bc6c-48d4-8af1-c152190439a3",
   "metadata": {},
   "outputs": [],
   "source": [
    "# Modelo simple "
   ]
  },
  {
   "cell_type": "code",
   "execution_count": 61,
   "id": "6fb38d5f-ff3e-4907-9d5c-0f33cfdfd8e8",
   "metadata": {},
   "outputs": [],
   "source": [
    "oculta1 = tf.keras.layers.Dense(units=128, activation='relu', input_shape=[784])\n",
    "oculta2 = tf.keras.layers.Dense(units=64, activation='relu')\n",
    "salida = tf.keras.layers.Dense(units=10, activation='softmax')\n",
    "\n",
    "modelo = tf.keras.Sequential([oculta1,oculta2,salida])"
   ]
  },
  {
   "cell_type": "code",
   "execution_count": 62,
   "id": "b9f0719e-6328-4186-8430-758edc0969aa",
   "metadata": {},
   "outputs": [],
   "source": [
    "modelo.compile(\n",
    "    optimizer = tf.keras.optimizers.Adam(0.1),\n",
    "    loss = 'categorical_crossentropy',\n",
    "    metrics= ['accuracy']\n",
    ")"
   ]
  },
  {
   "cell_type": "code",
   "execution_count": 63,
   "id": "b38e96dd-1fb7-4bee-9d43-eeb294112571",
   "metadata": {},
   "outputs": [
    {
     "name": "stdout",
     "output_type": "stream",
     "text": [
      "comenzando entrenamiento\n",
      "Epoch 1/10\n",
      "\u001b[1m394/394\u001b[0m \u001b[32m━━━━━━━━━━━━━━━━━━━━\u001b[0m\u001b[37m\u001b[0m \u001b[1m1s\u001b[0m 1ms/step - accuracy: 0.5715 - loss: 1.1854 - val_accuracy: 0.8645 - val_loss: 0.4441\n",
      "Epoch 2/10\n",
      "\u001b[1m394/394\u001b[0m \u001b[32m━━━━━━━━━━━━━━━━━━━━\u001b[0m\u001b[37m\u001b[0m \u001b[1m0s\u001b[0m 1ms/step - accuracy: 0.8680 - loss: 0.4440 - val_accuracy: 0.8684 - val_loss: 0.4236\n",
      "Epoch 3/10\n",
      "\u001b[1m394/394\u001b[0m \u001b[32m━━━━━━━━━━━━━━━━━━━━\u001b[0m\u001b[37m\u001b[0m \u001b[1m0s\u001b[0m 1ms/step - accuracy: 0.8857 - loss: 0.3832 - val_accuracy: 0.8977 - val_loss: 0.3554\n",
      "Epoch 4/10\n",
      "\u001b[1m394/394\u001b[0m \u001b[32m━━━━━━━━━━━━━━━━━━━━\u001b[0m\u001b[37m\u001b[0m \u001b[1m0s\u001b[0m 1ms/step - accuracy: 0.8896 - loss: 0.3660 - val_accuracy: 0.8896 - val_loss: 0.3827\n",
      "Epoch 5/10\n",
      "\u001b[1m394/394\u001b[0m \u001b[32m━━━━━━━━━━━━━━━━━━━━\u001b[0m\u001b[37m\u001b[0m \u001b[1m0s\u001b[0m 1ms/step - accuracy: 0.8934 - loss: 0.3588 - val_accuracy: 0.9059 - val_loss: 0.3302\n",
      "Epoch 6/10\n",
      "\u001b[1m394/394\u001b[0m \u001b[32m━━━━━━━━━━━━━━━━━━━━\u001b[0m\u001b[37m\u001b[0m \u001b[1m0s\u001b[0m 1ms/step - accuracy: 0.8995 - loss: 0.3353 - val_accuracy: 0.9048 - val_loss: 0.3369\n",
      "Epoch 7/10\n",
      "\u001b[1m394/394\u001b[0m \u001b[32m━━━━━━━━━━━━━━━━━━━━\u001b[0m\u001b[37m\u001b[0m \u001b[1m0s\u001b[0m 1ms/step - accuracy: 0.9031 - loss: 0.3259 - val_accuracy: 0.9087 - val_loss: 0.3132\n",
      "Epoch 8/10\n",
      "\u001b[1m394/394\u001b[0m \u001b[32m━━━━━━━━━━━━━━━━━━━━\u001b[0m\u001b[37m\u001b[0m \u001b[1m0s\u001b[0m 991us/step - accuracy: 0.9028 - loss: 0.3277 - val_accuracy: 0.9046 - val_loss: 0.3271\n",
      "Epoch 9/10\n",
      "\u001b[1m394/394\u001b[0m \u001b[32m━━━━━━━━━━━━━━━━━━━━\u001b[0m\u001b[37m\u001b[0m \u001b[1m0s\u001b[0m 964us/step - accuracy: 0.9047 - loss: 0.3307 - val_accuracy: 0.9116 - val_loss: 0.3134\n",
      "Epoch 10/10\n",
      "\u001b[1m394/394\u001b[0m \u001b[32m━━━━━━━━━━━━━━━━━━━━\u001b[0m\u001b[37m\u001b[0m \u001b[1m0s\u001b[0m 998us/step - accuracy: 0.9057 - loss: 0.3336 - val_accuracy: 0.9104 - val_loss: 0.3173\n",
      "Modelo entrenado!\n"
     ]
    }
   ],
   "source": [
    "print(\"comenzando entrenamiento\")\n",
    "historial = modelo.fit(X_train, y_train, epochs=10, batch_size=128, validation_split=0.1)\n",
    "print(\"Modelo entrenado!\")"
   ]
  },
  {
   "cell_type": "code",
   "execution_count": 64,
   "id": "7de83e56-922c-4642-806c-aa621db790da",
   "metadata": {},
   "outputs": [
    {
     "name": "stdout",
     "output_type": "stream",
     "text": [
      "\u001b[1m438/438\u001b[0m \u001b[32m━━━━━━━━━━━━━━━━━━━━\u001b[0m\u001b[37m\u001b[0m \u001b[1m0s\u001b[0m 274us/step - accuracy: 0.9061 - loss: 0.3395\n",
      "Accuracy en el conjunto de prueba: 0.9062\n"
     ]
    }
   ],
   "source": [
    "test_loss, test_accuracy = modelo.evaluate(X_test, y_test)\n",
    "print(f\"Accuracy en el conjunto de prueba: {test_accuracy:.4f}\")"
   ]
  },
  {
   "cell_type": "code",
   "execution_count": 66,
   "id": "bf5e5e64-ea7f-46a7-9a82-81cdbc18d2bb",
   "metadata": {},
   "outputs": [
    {
     "data": {
      "text/plain": [
       "[<matplotlib.lines.Line2D at 0x16bfb9be0>]"
      ]
     },
     "execution_count": 66,
     "metadata": {},
     "output_type": "execute_result"
    },
    {
     "data": {
      "image/png": "[encoded data removed]",
      "text/plain": [
       "<Figure size 640x480 with 1 Axes>"
      ]
     },
     "metadata": {},
     "output_type": "display_data"
    }
   ],
   "source": [
    "plt.xlabel(\"# Epoca\")\n",
    "plt.ylabel(\"Magnitud de pérdida\")\n",
    "plt.plot(historial.history[\"loss\"])"
   ]
  },
  {
   "cell_type": "code",
   "execution_count": 87,
   "id": "70dd307e-159d-4777-bf15-c7c8d5b024ba",
   "metadata": {},
   "outputs": [
    {
     "data": {
      "image/png": "[encoded data removed]",
      "text/plain": [
       "<Figure size 640x480 with 1 Axes>"
      ]
     },
     "metadata": {},
     "output_type": "display_data"
    }
   ],
   "source": [
    "#Predicción\n",
    "index = 3\n",
    "imagen_prueba = X_test[index]\n",
    "\n",
    "plt.imshow(imagen_prueba.reshape(28, 28), cmap='gray')\n",
    "plt.title(\"Imagen de prueba\")\n",
    "plt.show()"
   ]
  },
  {
   "cell_type": "code",
   "execution_count": 88,
   "id": "30b37331-bdcd-45a2-aa61-b5e7944f84db",
   "metadata": {},
   "outputs": [
    {
     "name": "stdout",
     "output_type": "stream",
     "text": [
      "\u001b[1m1/1\u001b[0m \u001b[32m━━━━━━━━━━━━━━━━━━━━\u001b[0m\u001b[37m\u001b[0m \u001b[1m0s\u001b[0m 12ms/step\n",
      "La red neuronal predice que esta imagen es un: 7\n"
     ]
    }
   ],
   "source": [
    "imagen_prueba = imagen_prueba.reshape(1,784)\n",
    "prediccion = modelo.predict(imagen_prueba)\n",
    "numero_predicho = np.argmax(prediccion)\n",
    "print(f\"La red neuronal predice que esta imagen es un: {numero_predicho}\")"
   ]
  }
 ],
 "metadata": {
  "kernelspec": {
   "display_name": "Python 3 (ipykernel)",
   "language": "python",
   "name": "python3"
  },
  "language_info": {
   "codemirror_mode": {
    "name": "ipython",
    "version": 3
   },
   "file_extension": ".py",
   "mimetype": "text/x-python",
   "name": "python",
   "nbconvert_exporter": "python",
   "pygments_lexer": "ipython3",
   "version": "3.12.8"
  }
 },
 "nbformat": 4,
 "nbformat_minor": 5
}
